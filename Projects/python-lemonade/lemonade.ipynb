{
 "cells": [
  {
   "cell_type": "markdown",
   "metadata": {},
   "source": [
    "# Introdução a Python & Machine Learning\n",
    "\n",
    "Autor: Raphael Oliveira Prates  \n",
    "  \n",
    "Este trabalho é da matéria __Programando IA com Python__ do curso __MBA em Artificial Intelligence & Machine Learning__ da FIAP.\n",
    "Ao trabalhar com o dataset *lemonadade.csv*, visa a familiarização com esses principais conceitos:\n",
    "\n",
    "* Numpy;\n",
    "* Pandas;\n",
    "* Análise Exploratória de dados;\n",
    "* Regressão linear.\n",
    "\n",
    "Para concluir a tarefa, os seguintes itens foram respondidos:\n",
    "\n",
    "1) Leia o arquivo lemonades.csv usando pandas;  \n",
    "2) retorne as informações sobre as colunas e as principais estatísticas sobre o dataset;  \n",
    "3) Realize a limpeza do dataset:  \n",
    "\n",
    "- Verifique se existe valores nulos  \n",
    "- Remova duplicatas  \n",
    "- Trate os elementos faltantes (interpolação e media);  \n",
    "\n",
    "4) Adicione uma coluna chamada \"Sales\" que contém o total de vendas de limão e laranja;  \n",
    "5) Adicione uma coluna chamada \"Revenue\" que calcula o lucro (venda*preço);  \n",
    "6) Retorne o lucro total;  \n",
    "7) Escreva uma função que receba dois parâmetros, dataset e temp(int). Se temp for 1, ele retorna a máxima temperatura; observada no conjunto de dados; se 0, retorna a média do período observado; se -1, retorna a temperatura mínima  \n",
    "8) Escreva uma função que receba dois parametros (dataset, localização) e retorne o dataset com o preço do limão e laranja ajustados em 15% se a localização for 'Park' ou ajustados em 10% se a localização for 'Beach';  \n",
    "9) Escreva uma função que receba o dataset como parâmetro e retorne o dataset com uma coluna a mais que mostre o rank de temperatura. O dataset retornado precisa estar ordenado de acordo com rank;  \n",
    "10) Imprima um gráfico de linha que retorne o lucro ao longo do tempo;  \n",
    "11) Crie um scatter-plot leaflets x sales. Existe alguma correlação entre os dados?  \n",
    "12) Crie um histograma que mostre o lucro (revenue) com 10 bins;  \n",
    "13) Crie um gráfico de linha que compute o lucro por tipo de fruta ao longo do tempo;  \n",
    "14) Usando regressão linear, prediga vendas a partir de:  \n",
    "  \n",
    "- temperature  \n",
    "- leafltes  \n",
    "- price  \n",
    "\n",
    "  Retorne o gráfico com a reta ajustada aos dados para cada variável  \n",
    "  \n",
    "15) Usando regressão linear, prediga vendas a partir das três variáveis juntas.   "
   ]
  },
  {
   "cell_type": "code",
   "execution_count": 1,
   "metadata": {},
   "outputs": [],
   "source": [
    "import matplotlib.pyplot as plt\n",
    "import numpy as np\n",
    "from pandas import Series, DataFrame\n",
    "import pandas as pd\n",
    "import seaborn as sns"
   ]
  },
  {
   "cell_type": "markdown",
   "metadata": {},
   "source": [
    "# 1) Leia o arquivo lemonades.csv usando pandas"
   ]
  },
  {
   "cell_type": "code",
   "execution_count": 2,
   "metadata": {},
   "outputs": [],
   "source": [
    "df = pd.read_csv(\"Lemonade2016.csv\")"
   ]
  },
  {
   "cell_type": "code",
   "execution_count": 3,
   "metadata": {},
   "outputs": [
    {
     "data": {
      "text/html": [
       "<div>\n",
       "<style scoped>\n",
       "    .dataframe tbody tr th:only-of-type {\n",
       "        vertical-align: middle;\n",
       "    }\n",
       "\n",
       "    .dataframe tbody tr th {\n",
       "        vertical-align: top;\n",
       "    }\n",
       "\n",
       "    .dataframe thead th {\n",
       "        text-align: right;\n",
       "    }\n",
       "</style>\n",
       "<table border=\"1\" class=\"dataframe\">\n",
       "  <thead>\n",
       "    <tr style=\"text-align: right;\">\n",
       "      <th></th>\n",
       "      <th>Date</th>\n",
       "      <th>Location</th>\n",
       "      <th>Lemon</th>\n",
       "      <th>Orange</th>\n",
       "      <th>Temperature</th>\n",
       "      <th>Leaflets</th>\n",
       "      <th>Price</th>\n",
       "    </tr>\n",
       "  </thead>\n",
       "  <tbody>\n",
       "    <tr>\n",
       "      <th>0</th>\n",
       "      <td>7/1/2016</td>\n",
       "      <td>Park</td>\n",
       "      <td>97</td>\n",
       "      <td>67</td>\n",
       "      <td>70</td>\n",
       "      <td>90.0</td>\n",
       "      <td>0.25</td>\n",
       "    </tr>\n",
       "    <tr>\n",
       "      <th>1</th>\n",
       "      <td>7/2/2016</td>\n",
       "      <td>Park</td>\n",
       "      <td>98</td>\n",
       "      <td>67</td>\n",
       "      <td>72</td>\n",
       "      <td>90.0</td>\n",
       "      <td>0.25</td>\n",
       "    </tr>\n",
       "    <tr>\n",
       "      <th>2</th>\n",
       "      <td>7/3/2016</td>\n",
       "      <td>Park</td>\n",
       "      <td>110</td>\n",
       "      <td>77</td>\n",
       "      <td>71</td>\n",
       "      <td>104.0</td>\n",
       "      <td>0.25</td>\n",
       "    </tr>\n",
       "    <tr>\n",
       "      <th>3</th>\n",
       "      <td>7/4/2016</td>\n",
       "      <td>Beach</td>\n",
       "      <td>134</td>\n",
       "      <td>99</td>\n",
       "      <td>76</td>\n",
       "      <td>98.0</td>\n",
       "      <td>0.25</td>\n",
       "    </tr>\n",
       "    <tr>\n",
       "      <th>4</th>\n",
       "      <td>7/5/2016</td>\n",
       "      <td>Beach</td>\n",
       "      <td>159</td>\n",
       "      <td>118</td>\n",
       "      <td>78</td>\n",
       "      <td>135.0</td>\n",
       "      <td>0.25</td>\n",
       "    </tr>\n",
       "  </tbody>\n",
       "</table>\n",
       "</div>"
      ],
      "text/plain": [
       "       Date Location  Lemon  Orange  Temperature  Leaflets  Price\n",
       "0  7/1/2016     Park     97      67           70      90.0   0.25\n",
       "1  7/2/2016     Park     98      67           72      90.0   0.25\n",
       "2  7/3/2016     Park    110      77           71     104.0   0.25\n",
       "3  7/4/2016    Beach    134      99           76      98.0   0.25\n",
       "4  7/5/2016    Beach    159     118           78     135.0   0.25"
      ]
     },
     "execution_count": 3,
     "metadata": {},
     "output_type": "execute_result"
    }
   ],
   "source": [
    "df.head()"
   ]
  },
  {
   "cell_type": "markdown",
   "metadata": {},
   "source": [
    "# 2) Retorne as informações sobre as colunas e as principais estatísticas sobre o dataset"
   ]
  },
  {
   "cell_type": "code",
   "execution_count": 4,
   "metadata": {
    "scrolled": true
   },
   "outputs": [
    {
     "name": "stdout",
     "output_type": "stream",
     "text": [
      "<class 'pandas.core.frame.DataFrame'>\n",
      "RangeIndex: 32 entries, 0 to 31\n",
      "Data columns (total 7 columns):\n",
      "Date           31 non-null object\n",
      "Location       32 non-null object\n",
      "Lemon          32 non-null int64\n",
      "Orange         32 non-null int64\n",
      "Temperature    32 non-null int64\n",
      "Leaflets       31 non-null float64\n",
      "Price          32 non-null float64\n",
      "dtypes: float64(2), int64(3), object(2)\n",
      "memory usage: 1.8+ KB\n"
     ]
    }
   ],
   "source": [
    "df.info()"
   ]
  },
  {
   "cell_type": "code",
   "execution_count": 5,
   "metadata": {},
   "outputs": [
    {
     "data": {
      "text/html": [
       "<div>\n",
       "<style scoped>\n",
       "    .dataframe tbody tr th:only-of-type {\n",
       "        vertical-align: middle;\n",
       "    }\n",
       "\n",
       "    .dataframe tbody tr th {\n",
       "        vertical-align: top;\n",
       "    }\n",
       "\n",
       "    .dataframe thead th {\n",
       "        text-align: right;\n",
       "    }\n",
       "</style>\n",
       "<table border=\"1\" class=\"dataframe\">\n",
       "  <thead>\n",
       "    <tr style=\"text-align: right;\">\n",
       "      <th></th>\n",
       "      <th>Lemon</th>\n",
       "      <th>Orange</th>\n",
       "      <th>Temperature</th>\n",
       "      <th>Leaflets</th>\n",
       "      <th>Price</th>\n",
       "    </tr>\n",
       "  </thead>\n",
       "  <tbody>\n",
       "    <tr>\n",
       "      <th>count</th>\n",
       "      <td>32.000000</td>\n",
       "      <td>32.000000</td>\n",
       "      <td>32.000000</td>\n",
       "      <td>31.000000</td>\n",
       "      <td>32.000000</td>\n",
       "    </tr>\n",
       "    <tr>\n",
       "      <th>mean</th>\n",
       "      <td>116.156250</td>\n",
       "      <td>80.000000</td>\n",
       "      <td>78.968750</td>\n",
       "      <td>108.548387</td>\n",
       "      <td>0.354687</td>\n",
       "    </tr>\n",
       "    <tr>\n",
       "      <th>std</th>\n",
       "      <td>25.823357</td>\n",
       "      <td>21.863211</td>\n",
       "      <td>4.067847</td>\n",
       "      <td>20.117718</td>\n",
       "      <td>0.113137</td>\n",
       "    </tr>\n",
       "    <tr>\n",
       "      <th>min</th>\n",
       "      <td>71.000000</td>\n",
       "      <td>42.000000</td>\n",
       "      <td>70.000000</td>\n",
       "      <td>68.000000</td>\n",
       "      <td>0.250000</td>\n",
       "    </tr>\n",
       "    <tr>\n",
       "      <th>25%</th>\n",
       "      <td>98.000000</td>\n",
       "      <td>66.750000</td>\n",
       "      <td>77.000000</td>\n",
       "      <td>90.000000</td>\n",
       "      <td>0.250000</td>\n",
       "    </tr>\n",
       "    <tr>\n",
       "      <th>50%</th>\n",
       "      <td>113.500000</td>\n",
       "      <td>76.500000</td>\n",
       "      <td>80.500000</td>\n",
       "      <td>108.000000</td>\n",
       "      <td>0.350000</td>\n",
       "    </tr>\n",
       "    <tr>\n",
       "      <th>75%</th>\n",
       "      <td>131.750000</td>\n",
       "      <td>95.000000</td>\n",
       "      <td>82.000000</td>\n",
       "      <td>124.000000</td>\n",
       "      <td>0.500000</td>\n",
       "    </tr>\n",
       "    <tr>\n",
       "      <th>max</th>\n",
       "      <td>176.000000</td>\n",
       "      <td>129.000000</td>\n",
       "      <td>84.000000</td>\n",
       "      <td>158.000000</td>\n",
       "      <td>0.500000</td>\n",
       "    </tr>\n",
       "  </tbody>\n",
       "</table>\n",
       "</div>"
      ],
      "text/plain": [
       "            Lemon      Orange  Temperature    Leaflets      Price\n",
       "count   32.000000   32.000000    32.000000   31.000000  32.000000\n",
       "mean   116.156250   80.000000    78.968750  108.548387   0.354687\n",
       "std     25.823357   21.863211     4.067847   20.117718   0.113137\n",
       "min     71.000000   42.000000    70.000000   68.000000   0.250000\n",
       "25%     98.000000   66.750000    77.000000   90.000000   0.250000\n",
       "50%    113.500000   76.500000    80.500000  108.000000   0.350000\n",
       "75%    131.750000   95.000000    82.000000  124.000000   0.500000\n",
       "max    176.000000  129.000000    84.000000  158.000000   0.500000"
      ]
     },
     "execution_count": 5,
     "metadata": {},
     "output_type": "execute_result"
    }
   ],
   "source": [
    "df.describe()"
   ]
  },
  {
   "cell_type": "markdown",
   "metadata": {},
   "source": [
    "# 3) Realize a limpeza do dataset"
   ]
  },
  {
   "cell_type": "code",
   "execution_count": 6,
   "metadata": {},
   "outputs": [
    {
     "data": {
      "text/plain": [
       "Date            True\n",
       "Location       False\n",
       "Lemon          False\n",
       "Orange         False\n",
       "Temperature    False\n",
       "Leaflets        True\n",
       "Price          False\n",
       "dtype: bool"
      ]
     },
     "execution_count": 6,
     "metadata": {},
     "output_type": "execute_result"
    }
   ],
   "source": [
    "df.isnull().any()"
   ]
  },
  {
   "cell_type": "code",
   "execution_count": 7,
   "metadata": {},
   "outputs": [
    {
     "data": {
      "text/plain": [
       "Date           1\n",
       "Location       0\n",
       "Lemon          0\n",
       "Orange         0\n",
       "Temperature    0\n",
       "Leaflets       1\n",
       "Price          0\n",
       "dtype: int64"
      ]
     },
     "execution_count": 7,
     "metadata": {},
     "output_type": "execute_result"
    }
   ],
   "source": [
    "df.isnull().sum()"
   ]
  },
  {
   "cell_type": "code",
   "execution_count": 8,
   "metadata": {},
   "outputs": [
    {
     "data": {
      "text/html": [
       "<div>\n",
       "<style scoped>\n",
       "    .dataframe tbody tr th:only-of-type {\n",
       "        vertical-align: middle;\n",
       "    }\n",
       "\n",
       "    .dataframe tbody tr th {\n",
       "        vertical-align: top;\n",
       "    }\n",
       "\n",
       "    .dataframe thead th {\n",
       "        text-align: right;\n",
       "    }\n",
       "</style>\n",
       "<table border=\"1\" class=\"dataframe\">\n",
       "  <thead>\n",
       "    <tr style=\"text-align: right;\">\n",
       "      <th></th>\n",
       "      <th>Date</th>\n",
       "      <th>Location</th>\n",
       "      <th>Lemon</th>\n",
       "      <th>Orange</th>\n",
       "      <th>Temperature</th>\n",
       "      <th>Leaflets</th>\n",
       "      <th>Price</th>\n",
       "    </tr>\n",
       "  </thead>\n",
       "  <tbody>\n",
       "    <tr>\n",
       "      <th>8</th>\n",
       "      <td>NaN</td>\n",
       "      <td>Beach</td>\n",
       "      <td>123</td>\n",
       "      <td>86</td>\n",
       "      <td>82</td>\n",
       "      <td>113.0</td>\n",
       "      <td>0.25</td>\n",
       "    </tr>\n",
       "  </tbody>\n",
       "</table>\n",
       "</div>"
      ],
      "text/plain": [
       "  Date Location  Lemon  Orange  Temperature  Leaflets  Price\n",
       "8  NaN    Beach    123      86           82     113.0   0.25"
      ]
     },
     "execution_count": 8,
     "metadata": {},
     "output_type": "execute_result"
    }
   ],
   "source": [
    "df[df['Date'].isnull()]"
   ]
  },
  {
   "cell_type": "code",
   "execution_count": 9,
   "metadata": {},
   "outputs": [
    {
     "data": {
      "text/html": [
       "<div>\n",
       "<style scoped>\n",
       "    .dataframe tbody tr th:only-of-type {\n",
       "        vertical-align: middle;\n",
       "    }\n",
       "\n",
       "    .dataframe tbody tr th {\n",
       "        vertical-align: top;\n",
       "    }\n",
       "\n",
       "    .dataframe thead th {\n",
       "        text-align: right;\n",
       "    }\n",
       "</style>\n",
       "<table border=\"1\" class=\"dataframe\">\n",
       "  <thead>\n",
       "    <tr style=\"text-align: right;\">\n",
       "      <th></th>\n",
       "      <th>Date</th>\n",
       "      <th>Location</th>\n",
       "      <th>Lemon</th>\n",
       "      <th>Orange</th>\n",
       "      <th>Temperature</th>\n",
       "      <th>Leaflets</th>\n",
       "      <th>Price</th>\n",
       "    </tr>\n",
       "  </thead>\n",
       "  <tbody>\n",
       "    <tr>\n",
       "      <th>6</th>\n",
       "      <td>7/6/2016</td>\n",
       "      <td>Beach</td>\n",
       "      <td>103</td>\n",
       "      <td>69</td>\n",
       "      <td>82</td>\n",
       "      <td>90.0</td>\n",
       "      <td>0.25</td>\n",
       "    </tr>\n",
       "    <tr>\n",
       "      <th>7</th>\n",
       "      <td>7/7/2016</td>\n",
       "      <td>Beach</td>\n",
       "      <td>143</td>\n",
       "      <td>101</td>\n",
       "      <td>81</td>\n",
       "      <td>135.0</td>\n",
       "      <td>0.25</td>\n",
       "    </tr>\n",
       "    <tr>\n",
       "      <th>8</th>\n",
       "      <td>NaN</td>\n",
       "      <td>Beach</td>\n",
       "      <td>123</td>\n",
       "      <td>86</td>\n",
       "      <td>82</td>\n",
       "      <td>113.0</td>\n",
       "      <td>0.25</td>\n",
       "    </tr>\n",
       "    <tr>\n",
       "      <th>9</th>\n",
       "      <td>7/9/2016</td>\n",
       "      <td>Beach</td>\n",
       "      <td>134</td>\n",
       "      <td>95</td>\n",
       "      <td>80</td>\n",
       "      <td>126.0</td>\n",
       "      <td>0.25</td>\n",
       "    </tr>\n",
       "    <tr>\n",
       "      <th>10</th>\n",
       "      <td>7/10/2016</td>\n",
       "      <td>Beach</td>\n",
       "      <td>140</td>\n",
       "      <td>98</td>\n",
       "      <td>82</td>\n",
       "      <td>131.0</td>\n",
       "      <td>0.25</td>\n",
       "    </tr>\n",
       "  </tbody>\n",
       "</table>\n",
       "</div>"
      ],
      "text/plain": [
       "         Date Location  Lemon  Orange  Temperature  Leaflets  Price\n",
       "6    7/6/2016    Beach    103      69           82      90.0   0.25\n",
       "7    7/7/2016    Beach    143     101           81     135.0   0.25\n",
       "8         NaN    Beach    123      86           82     113.0   0.25\n",
       "9    7/9/2016    Beach    134      95           80     126.0   0.25\n",
       "10  7/10/2016    Beach    140      98           82     131.0   0.25"
      ]
     },
     "execution_count": 9,
     "metadata": {},
     "output_type": "execute_result"
    }
   ],
   "source": [
    "df[6:11]"
   ]
  },
  {
   "cell_type": "code",
   "execution_count": 10,
   "metadata": {},
   "outputs": [],
   "source": [
    "df['Date'].fillna('7/8/2016', inplace = True)"
   ]
  },
  {
   "cell_type": "code",
   "execution_count": 11,
   "metadata": {},
   "outputs": [
    {
     "data": {
      "text/plain": [
       "'7/8/2016'"
      ]
     },
     "execution_count": 11,
     "metadata": {},
     "output_type": "execute_result"
    }
   ],
   "source": [
    "df['Date'][8]"
   ]
  },
  {
   "cell_type": "code",
   "execution_count": 12,
   "metadata": {},
   "outputs": [
    {
     "data": {
      "text/html": [
       "<div>\n",
       "<style scoped>\n",
       "    .dataframe tbody tr th:only-of-type {\n",
       "        vertical-align: middle;\n",
       "    }\n",
       "\n",
       "    .dataframe tbody tr th {\n",
       "        vertical-align: top;\n",
       "    }\n",
       "\n",
       "    .dataframe thead th {\n",
       "        text-align: right;\n",
       "    }\n",
       "</style>\n",
       "<table border=\"1\" class=\"dataframe\">\n",
       "  <thead>\n",
       "    <tr style=\"text-align: right;\">\n",
       "      <th></th>\n",
       "      <th>Date</th>\n",
       "      <th>Location</th>\n",
       "      <th>Lemon</th>\n",
       "      <th>Orange</th>\n",
       "      <th>Temperature</th>\n",
       "      <th>Leaflets</th>\n",
       "      <th>Price</th>\n",
       "    </tr>\n",
       "  </thead>\n",
       "  <tbody>\n",
       "    <tr>\n",
       "      <th>20</th>\n",
       "      <td>7/20/2016</td>\n",
       "      <td>Park</td>\n",
       "      <td>71</td>\n",
       "      <td>42</td>\n",
       "      <td>70</td>\n",
       "      <td>NaN</td>\n",
       "      <td>0.5</td>\n",
       "    </tr>\n",
       "  </tbody>\n",
       "</table>\n",
       "</div>"
      ],
      "text/plain": [
       "         Date Location  Lemon  Orange  Temperature  Leaflets  Price\n",
       "20  7/20/2016     Park     71      42           70       NaN    0.5"
      ]
     },
     "execution_count": 12,
     "metadata": {},
     "output_type": "execute_result"
    }
   ],
   "source": [
    "df[df['Leaflets'].isnull()]"
   ]
  },
  {
   "cell_type": "code",
   "execution_count": 13,
   "metadata": {},
   "outputs": [
    {
     "data": {
      "text/html": [
       "<div>\n",
       "<style scoped>\n",
       "    .dataframe tbody tr th:only-of-type {\n",
       "        vertical-align: middle;\n",
       "    }\n",
       "\n",
       "    .dataframe tbody tr th {\n",
       "        vertical-align: top;\n",
       "    }\n",
       "\n",
       "    .dataframe thead th {\n",
       "        text-align: right;\n",
       "    }\n",
       "</style>\n",
       "<table border=\"1\" class=\"dataframe\">\n",
       "  <thead>\n",
       "    <tr style=\"text-align: right;\">\n",
       "      <th></th>\n",
       "      <th>Date</th>\n",
       "      <th>Location</th>\n",
       "      <th>Lemon</th>\n",
       "      <th>Orange</th>\n",
       "      <th>Temperature</th>\n",
       "      <th>Leaflets</th>\n",
       "      <th>Price</th>\n",
       "    </tr>\n",
       "  </thead>\n",
       "  <tbody>\n",
       "    <tr>\n",
       "      <th>18</th>\n",
       "      <td>7/18/2016</td>\n",
       "      <td>Park</td>\n",
       "      <td>131</td>\n",
       "      <td>92</td>\n",
       "      <td>81</td>\n",
       "      <td>122.0</td>\n",
       "      <td>0.5</td>\n",
       "    </tr>\n",
       "    <tr>\n",
       "      <th>19</th>\n",
       "      <td>7/19/2016</td>\n",
       "      <td>Park</td>\n",
       "      <td>122</td>\n",
       "      <td>85</td>\n",
       "      <td>78</td>\n",
       "      <td>113.0</td>\n",
       "      <td>0.5</td>\n",
       "    </tr>\n",
       "    <tr>\n",
       "      <th>20</th>\n",
       "      <td>7/20/2016</td>\n",
       "      <td>Park</td>\n",
       "      <td>71</td>\n",
       "      <td>42</td>\n",
       "      <td>70</td>\n",
       "      <td>NaN</td>\n",
       "      <td>0.5</td>\n",
       "    </tr>\n",
       "    <tr>\n",
       "      <th>21</th>\n",
       "      <td>7/21/2016</td>\n",
       "      <td>Park</td>\n",
       "      <td>83</td>\n",
       "      <td>50</td>\n",
       "      <td>77</td>\n",
       "      <td>90.0</td>\n",
       "      <td>0.5</td>\n",
       "    </tr>\n",
       "    <tr>\n",
       "      <th>22</th>\n",
       "      <td>7/22/2016</td>\n",
       "      <td>Park</td>\n",
       "      <td>112</td>\n",
       "      <td>75</td>\n",
       "      <td>80</td>\n",
       "      <td>108.0</td>\n",
       "      <td>0.5</td>\n",
       "    </tr>\n",
       "  </tbody>\n",
       "</table>\n",
       "</div>"
      ],
      "text/plain": [
       "         Date Location  Lemon  Orange  Temperature  Leaflets  Price\n",
       "18  7/18/2016     Park    131      92           81     122.0    0.5\n",
       "19  7/19/2016     Park    122      85           78     113.0    0.5\n",
       "20  7/20/2016     Park     71      42           70       NaN    0.5\n",
       "21  7/21/2016     Park     83      50           77      90.0    0.5\n",
       "22  7/22/2016     Park    112      75           80     108.0    0.5"
      ]
     },
     "execution_count": 13,
     "metadata": {},
     "output_type": "execute_result"
    }
   ],
   "source": [
    "df[18:23]"
   ]
  },
  {
   "cell_type": "code",
   "execution_count": 14,
   "metadata": {},
   "outputs": [
    {
     "name": "stdout",
     "output_type": "stream",
     "text": [
      "Média de folhetos para o Parque: 109\n"
     ]
    }
   ],
   "source": [
    "print(\"Média de folhetos para o Parque: %d\" % df[df['Location'] == 'Park'].mean()['Leaflets'].round(decimals = 0))"
   ]
  },
  {
   "cell_type": "code",
   "execution_count": 15,
   "metadata": {},
   "outputs": [],
   "source": [
    "df['Leaflets'].interpolate(inplace = True)"
   ]
  },
  {
   "cell_type": "code",
   "execution_count": 16,
   "metadata": {},
   "outputs": [],
   "source": [
    "df['Leaflets'] = df['Leaflets'].round(decimals = 0)"
   ]
  },
  {
   "cell_type": "code",
   "execution_count": 17,
   "metadata": {},
   "outputs": [
    {
     "data": {
      "text/plain": [
       "102.0"
      ]
     },
     "execution_count": 17,
     "metadata": {},
     "output_type": "execute_result"
    }
   ],
   "source": [
    "df['Leaflets'][20]"
   ]
  },
  {
   "cell_type": "code",
   "execution_count": 18,
   "metadata": {},
   "outputs": [
    {
     "data": {
      "text/html": [
       "<div>\n",
       "<style scoped>\n",
       "    .dataframe tbody tr th:only-of-type {\n",
       "        vertical-align: middle;\n",
       "    }\n",
       "\n",
       "    .dataframe tbody tr th {\n",
       "        vertical-align: top;\n",
       "    }\n",
       "\n",
       "    .dataframe thead th {\n",
       "        text-align: right;\n",
       "    }\n",
       "</style>\n",
       "<table border=\"1\" class=\"dataframe\">\n",
       "  <thead>\n",
       "    <tr style=\"text-align: right;\">\n",
       "      <th></th>\n",
       "      <th>Date</th>\n",
       "      <th>Location</th>\n",
       "      <th>Lemon</th>\n",
       "      <th>Orange</th>\n",
       "      <th>Temperature</th>\n",
       "      <th>Leaflets</th>\n",
       "      <th>Price</th>\n",
       "    </tr>\n",
       "  </thead>\n",
       "  <tbody>\n",
       "    <tr>\n",
       "      <th>6</th>\n",
       "      <td>7/6/2016</td>\n",
       "      <td>Beach</td>\n",
       "      <td>103</td>\n",
       "      <td>69</td>\n",
       "      <td>82</td>\n",
       "      <td>90.0</td>\n",
       "      <td>0.25</td>\n",
       "    </tr>\n",
       "  </tbody>\n",
       "</table>\n",
       "</div>"
      ],
      "text/plain": [
       "       Date Location  Lemon  Orange  Temperature  Leaflets  Price\n",
       "6  7/6/2016    Beach    103      69           82      90.0   0.25"
      ]
     },
     "execution_count": 18,
     "metadata": {},
     "output_type": "execute_result"
    }
   ],
   "source": [
    "df[df.duplicated()]"
   ]
  },
  {
   "cell_type": "code",
   "execution_count": 19,
   "metadata": {},
   "outputs": [],
   "source": [
    "df.drop_duplicates(inplace = True)"
   ]
  },
  {
   "cell_type": "code",
   "execution_count": 20,
   "metadata": {},
   "outputs": [
    {
     "name": "stdout",
     "output_type": "stream",
     "text": [
      "<class 'pandas.core.frame.DataFrame'>\n",
      "Int64Index: 31 entries, 0 to 31\n",
      "Data columns (total 7 columns):\n",
      "Date           31 non-null object\n",
      "Location       31 non-null object\n",
      "Lemon          31 non-null int64\n",
      "Orange         31 non-null int64\n",
      "Temperature    31 non-null int64\n",
      "Leaflets       31 non-null float64\n",
      "Price          31 non-null float64\n",
      "dtypes: float64(2), int64(3), object(2)\n",
      "memory usage: 1.9+ KB\n"
     ]
    }
   ],
   "source": [
    "df.info()"
   ]
  },
  {
   "cell_type": "markdown",
   "metadata": {},
   "source": [
    "# 4) Adicione uma coluna chamada \"Sales\" que contém o total de vendas de limão e laranja"
   ]
  },
  {
   "cell_type": "code",
   "execution_count": 21,
   "metadata": {},
   "outputs": [],
   "source": [
    "df['Sales'] = df['Lemon'] + df['Orange']"
   ]
  },
  {
   "cell_type": "markdown",
   "metadata": {},
   "source": [
    "# 5) Adicione uma coluna chamada \"Revenue\" que calcula o lucro (venda*preço)"
   ]
  },
  {
   "cell_type": "code",
   "execution_count": 22,
   "metadata": {},
   "outputs": [],
   "source": [
    "df['Revenue'] = df['Sales'] * df['Price']"
   ]
  },
  {
   "cell_type": "markdown",
   "metadata": {},
   "source": [
    "# 6) Retorne o lucro total"
   ]
  },
  {
   "cell_type": "code",
   "execution_count": 23,
   "metadata": {},
   "outputs": [
    {
     "name": "stdout",
     "output_type": "stream",
     "text": [
      "Lucro total = $2138.00\n"
     ]
    }
   ],
   "source": [
    "print(\"Lucro total = $%.2f\" % df['Revenue'].sum())"
   ]
  },
  {
   "cell_type": "markdown",
   "metadata": {},
   "source": [
    "# 7) Escreva uma função que receba dois parâmetros, dataset e temp(int). Se temp for 1, ele retorna a máxima temperatura observada no conjunto de dados; se 0, retorna a média do período observado; se -1, retorna a temperatura mínima"
   ]
  },
  {
   "cell_type": "code",
   "execution_count": 24,
   "metadata": {},
   "outputs": [],
   "source": [
    "def temp_analise(dataset,temp):\n",
    "    '''\n",
    "    Retorna o valor da temperatura (min/media/max) para o dataset de entrada\n",
    "    Input:\n",
    "        dataset = conjunto de dados\n",
    "        temp    =  1 para temperatura máxima\n",
    "                =  0 para temperatura média\n",
    "                = -1 para temperatura mínima\n",
    "    Output: temperatura em Fahrenheit\n",
    "    '''    \n",
    "    if temp == 1:\n",
    "        return dataset['Temperature'].max()\n",
    "    if temp == 0:\n",
    "        return dataset['Temperature'].mean()\n",
    "    if temp == -1:\n",
    "        return dataset['Temperature'].min()\n",
    "    "
   ]
  },
  {
   "cell_type": "code",
   "execution_count": 25,
   "metadata": {},
   "outputs": [
    {
     "name": "stdout",
     "output_type": "stream",
     "text": [
      "Temperatura máxima: 84.0\n",
      "Temperatura média: 78.9\n",
      "Temperatura mínima: 70.0\n"
     ]
    }
   ],
   "source": [
    "print('Temperatura máxima: %.1f' % temp_analise(df,1))\n",
    "print('Temperatura média: %.1f' % temp_analise(df,0))\n",
    "print('Temperatura mínima: %.1f' % temp_analise(df,-1))"
   ]
  },
  {
   "cell_type": "markdown",
   "metadata": {},
   "source": [
    "# 8) Escreva uma função que receba dois parametros (dataset, localização) e retorne o dataset com o preço do limão e laranja ajustados em 15% se a localização for 'Park' ou ajustados em 10% se a localização for 'Beach'"
   ]
  },
  {
   "cell_type": "code",
   "execution_count": 26,
   "metadata": {},
   "outputs": [],
   "source": [
    "def loc_reajpreco(dataset,localizacao):\n",
    "    '''\n",
    "    Reajusta o preço de acordo com a localidade\n",
    "    Input:\n",
    "        dataset        = conjunto de dados\n",
    "        localizacao    =  'Park' ou 'Beach'\n",
    "    Output: dataset com o preço reajustado\n",
    "    '''\n",
    "    new_dataset = DataFrame.copy(dataset)\n",
    "    if localizacao == 'Park':\n",
    "        new_dataset.loc[new_dataset['Location'] == 'Park', 'Price'] = (new_dataset['Price']* 1.15).round(decimals = 2)\n",
    "        return new_dataset\n",
    "    if localizacao == 'Beach':\n",
    "        new_dataset.loc[new_dataset['Location'] == 'Beach', 'Price'] = (new_dataset['Price']* 1.10).round(decimals = 2)\n",
    "        return new_dataset"
   ]
  },
  {
   "cell_type": "code",
   "execution_count": 27,
   "metadata": {},
   "outputs": [
    {
     "data": {
      "text/html": [
       "<div>\n",
       "<style scoped>\n",
       "    .dataframe tbody tr th:only-of-type {\n",
       "        vertical-align: middle;\n",
       "    }\n",
       "\n",
       "    .dataframe tbody tr th {\n",
       "        vertical-align: top;\n",
       "    }\n",
       "\n",
       "    .dataframe thead th {\n",
       "        text-align: right;\n",
       "    }\n",
       "</style>\n",
       "<table border=\"1\" class=\"dataframe\">\n",
       "  <thead>\n",
       "    <tr style=\"text-align: right;\">\n",
       "      <th></th>\n",
       "      <th>Date</th>\n",
       "      <th>Location</th>\n",
       "      <th>Lemon</th>\n",
       "      <th>Orange</th>\n",
       "      <th>Temperature</th>\n",
       "      <th>Leaflets</th>\n",
       "      <th>Price</th>\n",
       "      <th>Sales</th>\n",
       "      <th>Revenue</th>\n",
       "    </tr>\n",
       "  </thead>\n",
       "  <tbody>\n",
       "    <tr>\n",
       "      <th>0</th>\n",
       "      <td>7/1/2016</td>\n",
       "      <td>Park</td>\n",
       "      <td>97</td>\n",
       "      <td>67</td>\n",
       "      <td>70</td>\n",
       "      <td>90.0</td>\n",
       "      <td>0.29</td>\n",
       "      <td>164</td>\n",
       "      <td>41.00</td>\n",
       "    </tr>\n",
       "    <tr>\n",
       "      <th>1</th>\n",
       "      <td>7/2/2016</td>\n",
       "      <td>Park</td>\n",
       "      <td>98</td>\n",
       "      <td>67</td>\n",
       "      <td>72</td>\n",
       "      <td>90.0</td>\n",
       "      <td>0.29</td>\n",
       "      <td>165</td>\n",
       "      <td>41.25</td>\n",
       "    </tr>\n",
       "    <tr>\n",
       "      <th>2</th>\n",
       "      <td>7/3/2016</td>\n",
       "      <td>Park</td>\n",
       "      <td>110</td>\n",
       "      <td>77</td>\n",
       "      <td>71</td>\n",
       "      <td>104.0</td>\n",
       "      <td>0.29</td>\n",
       "      <td>187</td>\n",
       "      <td>46.75</td>\n",
       "    </tr>\n",
       "    <tr>\n",
       "      <th>3</th>\n",
       "      <td>7/4/2016</td>\n",
       "      <td>Beach</td>\n",
       "      <td>134</td>\n",
       "      <td>99</td>\n",
       "      <td>76</td>\n",
       "      <td>98.0</td>\n",
       "      <td>0.25</td>\n",
       "      <td>233</td>\n",
       "      <td>58.25</td>\n",
       "    </tr>\n",
       "    <tr>\n",
       "      <th>4</th>\n",
       "      <td>7/5/2016</td>\n",
       "      <td>Beach</td>\n",
       "      <td>159</td>\n",
       "      <td>118</td>\n",
       "      <td>78</td>\n",
       "      <td>135.0</td>\n",
       "      <td>0.25</td>\n",
       "      <td>277</td>\n",
       "      <td>69.25</td>\n",
       "    </tr>\n",
       "  </tbody>\n",
       "</table>\n",
       "</div>"
      ],
      "text/plain": [
       "       Date Location  Lemon  Orange  Temperature  Leaflets  Price  Sales  \\\n",
       "0  7/1/2016     Park     97      67           70      90.0   0.29    164   \n",
       "1  7/2/2016     Park     98      67           72      90.0   0.29    165   \n",
       "2  7/3/2016     Park    110      77           71     104.0   0.29    187   \n",
       "3  7/4/2016    Beach    134      99           76      98.0   0.25    233   \n",
       "4  7/5/2016    Beach    159     118           78     135.0   0.25    277   \n",
       "\n",
       "   Revenue  \n",
       "0    41.00  \n",
       "1    41.25  \n",
       "2    46.75  \n",
       "3    58.25  \n",
       "4    69.25  "
      ]
     },
     "execution_count": 27,
     "metadata": {},
     "output_type": "execute_result"
    }
   ],
   "source": [
    "DataFrame.head(loc_reajpreco(df, 'Park'))"
   ]
  },
  {
   "cell_type": "code",
   "execution_count": 28,
   "metadata": {},
   "outputs": [
    {
     "data": {
      "text/html": [
       "<div>\n",
       "<style scoped>\n",
       "    .dataframe tbody tr th:only-of-type {\n",
       "        vertical-align: middle;\n",
       "    }\n",
       "\n",
       "    .dataframe tbody tr th {\n",
       "        vertical-align: top;\n",
       "    }\n",
       "\n",
       "    .dataframe thead th {\n",
       "        text-align: right;\n",
       "    }\n",
       "</style>\n",
       "<table border=\"1\" class=\"dataframe\">\n",
       "  <thead>\n",
       "    <tr style=\"text-align: right;\">\n",
       "      <th></th>\n",
       "      <th>Date</th>\n",
       "      <th>Location</th>\n",
       "      <th>Lemon</th>\n",
       "      <th>Orange</th>\n",
       "      <th>Temperature</th>\n",
       "      <th>Leaflets</th>\n",
       "      <th>Price</th>\n",
       "      <th>Sales</th>\n",
       "      <th>Revenue</th>\n",
       "    </tr>\n",
       "  </thead>\n",
       "  <tbody>\n",
       "    <tr>\n",
       "      <th>0</th>\n",
       "      <td>7/1/2016</td>\n",
       "      <td>Park</td>\n",
       "      <td>97</td>\n",
       "      <td>67</td>\n",
       "      <td>70</td>\n",
       "      <td>90.0</td>\n",
       "      <td>0.25</td>\n",
       "      <td>164</td>\n",
       "      <td>41.00</td>\n",
       "    </tr>\n",
       "    <tr>\n",
       "      <th>1</th>\n",
       "      <td>7/2/2016</td>\n",
       "      <td>Park</td>\n",
       "      <td>98</td>\n",
       "      <td>67</td>\n",
       "      <td>72</td>\n",
       "      <td>90.0</td>\n",
       "      <td>0.25</td>\n",
       "      <td>165</td>\n",
       "      <td>41.25</td>\n",
       "    </tr>\n",
       "    <tr>\n",
       "      <th>2</th>\n",
       "      <td>7/3/2016</td>\n",
       "      <td>Park</td>\n",
       "      <td>110</td>\n",
       "      <td>77</td>\n",
       "      <td>71</td>\n",
       "      <td>104.0</td>\n",
       "      <td>0.25</td>\n",
       "      <td>187</td>\n",
       "      <td>46.75</td>\n",
       "    </tr>\n",
       "    <tr>\n",
       "      <th>3</th>\n",
       "      <td>7/4/2016</td>\n",
       "      <td>Beach</td>\n",
       "      <td>134</td>\n",
       "      <td>99</td>\n",
       "      <td>76</td>\n",
       "      <td>98.0</td>\n",
       "      <td>0.28</td>\n",
       "      <td>233</td>\n",
       "      <td>58.25</td>\n",
       "    </tr>\n",
       "    <tr>\n",
       "      <th>4</th>\n",
       "      <td>7/5/2016</td>\n",
       "      <td>Beach</td>\n",
       "      <td>159</td>\n",
       "      <td>118</td>\n",
       "      <td>78</td>\n",
       "      <td>135.0</td>\n",
       "      <td>0.28</td>\n",
       "      <td>277</td>\n",
       "      <td>69.25</td>\n",
       "    </tr>\n",
       "  </tbody>\n",
       "</table>\n",
       "</div>"
      ],
      "text/plain": [
       "       Date Location  Lemon  Orange  Temperature  Leaflets  Price  Sales  \\\n",
       "0  7/1/2016     Park     97      67           70      90.0   0.25    164   \n",
       "1  7/2/2016     Park     98      67           72      90.0   0.25    165   \n",
       "2  7/3/2016     Park    110      77           71     104.0   0.25    187   \n",
       "3  7/4/2016    Beach    134      99           76      98.0   0.28    233   \n",
       "4  7/5/2016    Beach    159     118           78     135.0   0.28    277   \n",
       "\n",
       "   Revenue  \n",
       "0    41.00  \n",
       "1    41.25  \n",
       "2    46.75  \n",
       "3    58.25  \n",
       "4    69.25  "
      ]
     },
     "execution_count": 28,
     "metadata": {},
     "output_type": "execute_result"
    }
   ],
   "source": [
    "DataFrame.head(loc_reajpreco(df, 'Beach'))"
   ]
  },
  {
   "cell_type": "markdown",
   "metadata": {},
   "source": [
    "# 9) Escreva uma função que receba o dataset como parâmetro e retorne o dataset com uma coluna a mais que mostre o rank de temperatura. O dataset retornado precisa estar ordenado de acordo com rank"
   ]
  },
  {
   "cell_type": "code",
   "execution_count": 29,
   "metadata": {},
   "outputs": [],
   "source": [
    "def temp_rank(dataset):\n",
    "    '''\n",
    "    Ordena o dataset por ordem descrecente da temperatura e cria o rank TempRank\n",
    "    Input:\n",
    "        dataset = conjunto de dados\n",
    "    Output: dataset ordenado com a nova coluna TempRank\n",
    "    '''\n",
    "    dataset_temp = DataFrame.copy(dataset.sort_values('Temperature', ascending=False))\n",
    "    dataset_temp['TempRank'] = range(1,len(dataset_temp)+1)\n",
    "    return dataset_temp"
   ]
  },
  {
   "cell_type": "code",
   "execution_count": 30,
   "metadata": {},
   "outputs": [
    {
     "data": {
      "text/html": [
       "<div>\n",
       "<style scoped>\n",
       "    .dataframe tbody tr th:only-of-type {\n",
       "        vertical-align: middle;\n",
       "    }\n",
       "\n",
       "    .dataframe tbody tr th {\n",
       "        vertical-align: top;\n",
       "    }\n",
       "\n",
       "    .dataframe thead th {\n",
       "        text-align: right;\n",
       "    }\n",
       "</style>\n",
       "<table border=\"1\" class=\"dataframe\">\n",
       "  <thead>\n",
       "    <tr style=\"text-align: right;\">\n",
       "      <th></th>\n",
       "      <th>Date</th>\n",
       "      <th>Location</th>\n",
       "      <th>Lemon</th>\n",
       "      <th>Orange</th>\n",
       "      <th>Temperature</th>\n",
       "      <th>Leaflets</th>\n",
       "      <th>Price</th>\n",
       "      <th>Sales</th>\n",
       "      <th>Revenue</th>\n",
       "      <th>TempRank</th>\n",
       "    </tr>\n",
       "  </thead>\n",
       "  <tbody>\n",
       "    <tr>\n",
       "      <th>25</th>\n",
       "      <td>7/25/2016</td>\n",
       "      <td>Park</td>\n",
       "      <td>156</td>\n",
       "      <td>113</td>\n",
       "      <td>84</td>\n",
       "      <td>135.0</td>\n",
       "      <td>0.50</td>\n",
       "      <td>269</td>\n",
       "      <td>134.50</td>\n",
       "      <td>1</td>\n",
       "    </tr>\n",
       "    <tr>\n",
       "      <th>12</th>\n",
       "      <td>7/12/2016</td>\n",
       "      <td>Beach</td>\n",
       "      <td>130</td>\n",
       "      <td>95</td>\n",
       "      <td>84</td>\n",
       "      <td>99.0</td>\n",
       "      <td>0.25</td>\n",
       "      <td>225</td>\n",
       "      <td>56.25</td>\n",
       "      <td>2</td>\n",
       "    </tr>\n",
       "    <tr>\n",
       "      <th>26</th>\n",
       "      <td>7/26/2016</td>\n",
       "      <td>Park</td>\n",
       "      <td>176</td>\n",
       "      <td>129</td>\n",
       "      <td>83</td>\n",
       "      <td>158.0</td>\n",
       "      <td>0.35</td>\n",
       "      <td>305</td>\n",
       "      <td>106.75</td>\n",
       "      <td>3</td>\n",
       "    </tr>\n",
       "    <tr>\n",
       "      <th>11</th>\n",
       "      <td>7/11/2016</td>\n",
       "      <td>Beach</td>\n",
       "      <td>162</td>\n",
       "      <td>120</td>\n",
       "      <td>83</td>\n",
       "      <td>135.0</td>\n",
       "      <td>0.25</td>\n",
       "      <td>282</td>\n",
       "      <td>70.50</td>\n",
       "      <td>4</td>\n",
       "    </tr>\n",
       "    <tr>\n",
       "      <th>10</th>\n",
       "      <td>7/10/2016</td>\n",
       "      <td>Beach</td>\n",
       "      <td>140</td>\n",
       "      <td>98</td>\n",
       "      <td>82</td>\n",
       "      <td>131.0</td>\n",
       "      <td>0.25</td>\n",
       "      <td>238</td>\n",
       "      <td>59.50</td>\n",
       "      <td>5</td>\n",
       "    </tr>\n",
       "  </tbody>\n",
       "</table>\n",
       "</div>"
      ],
      "text/plain": [
       "         Date Location  Lemon  Orange  Temperature  Leaflets  Price  Sales  \\\n",
       "25  7/25/2016     Park    156     113           84     135.0   0.50    269   \n",
       "12  7/12/2016    Beach    130      95           84      99.0   0.25    225   \n",
       "26  7/26/2016     Park    176     129           83     158.0   0.35    305   \n",
       "11  7/11/2016    Beach    162     120           83     135.0   0.25    282   \n",
       "10  7/10/2016    Beach    140      98           82     131.0   0.25    238   \n",
       "\n",
       "    Revenue  TempRank  \n",
       "25   134.50         1  \n",
       "12    56.25         2  \n",
       "26   106.75         3  \n",
       "11    70.50         4  \n",
       "10    59.50         5  "
      ]
     },
     "execution_count": 30,
     "metadata": {},
     "output_type": "execute_result"
    }
   ],
   "source": [
    "DataFrame.head(temp_rank(df))"
   ]
  },
  {
   "cell_type": "markdown",
   "metadata": {},
   "source": [
    "# 10) Imprima um gráfico de linha que retorne o lucro ao longo do tempo"
   ]
  },
  {
   "cell_type": "code",
   "execution_count": 31,
   "metadata": {},
   "outputs": [],
   "source": [
    "df['Date'] = pd.to_datetime(df['Date'])"
   ]
  },
  {
   "cell_type": "code",
   "execution_count": 32,
   "metadata": {},
   "outputs": [],
   "source": [
    "df['Day'] = df['Date'].apply(lambda x: x.day)"
   ]
  },
  {
   "cell_type": "code",
   "execution_count": 33,
   "metadata": {},
   "outputs": [
    {
     "data": {
      "text/html": [
       "<div>\n",
       "<style scoped>\n",
       "    .dataframe tbody tr th:only-of-type {\n",
       "        vertical-align: middle;\n",
       "    }\n",
       "\n",
       "    .dataframe tbody tr th {\n",
       "        vertical-align: top;\n",
       "    }\n",
       "\n",
       "    .dataframe thead th {\n",
       "        text-align: right;\n",
       "    }\n",
       "</style>\n",
       "<table border=\"1\" class=\"dataframe\">\n",
       "  <thead>\n",
       "    <tr style=\"text-align: right;\">\n",
       "      <th></th>\n",
       "      <th>Date</th>\n",
       "      <th>Location</th>\n",
       "      <th>Lemon</th>\n",
       "      <th>Orange</th>\n",
       "      <th>Temperature</th>\n",
       "      <th>Leaflets</th>\n",
       "      <th>Price</th>\n",
       "      <th>Sales</th>\n",
       "      <th>Revenue</th>\n",
       "      <th>Day</th>\n",
       "    </tr>\n",
       "  </thead>\n",
       "  <tbody>\n",
       "    <tr>\n",
       "      <th>0</th>\n",
       "      <td>2016-07-01</td>\n",
       "      <td>Park</td>\n",
       "      <td>97</td>\n",
       "      <td>67</td>\n",
       "      <td>70</td>\n",
       "      <td>90.0</td>\n",
       "      <td>0.25</td>\n",
       "      <td>164</td>\n",
       "      <td>41.00</td>\n",
       "      <td>1</td>\n",
       "    </tr>\n",
       "    <tr>\n",
       "      <th>1</th>\n",
       "      <td>2016-07-02</td>\n",
       "      <td>Park</td>\n",
       "      <td>98</td>\n",
       "      <td>67</td>\n",
       "      <td>72</td>\n",
       "      <td>90.0</td>\n",
       "      <td>0.25</td>\n",
       "      <td>165</td>\n",
       "      <td>41.25</td>\n",
       "      <td>2</td>\n",
       "    </tr>\n",
       "    <tr>\n",
       "      <th>2</th>\n",
       "      <td>2016-07-03</td>\n",
       "      <td>Park</td>\n",
       "      <td>110</td>\n",
       "      <td>77</td>\n",
       "      <td>71</td>\n",
       "      <td>104.0</td>\n",
       "      <td>0.25</td>\n",
       "      <td>187</td>\n",
       "      <td>46.75</td>\n",
       "      <td>3</td>\n",
       "    </tr>\n",
       "    <tr>\n",
       "      <th>3</th>\n",
       "      <td>2016-07-04</td>\n",
       "      <td>Beach</td>\n",
       "      <td>134</td>\n",
       "      <td>99</td>\n",
       "      <td>76</td>\n",
       "      <td>98.0</td>\n",
       "      <td>0.25</td>\n",
       "      <td>233</td>\n",
       "      <td>58.25</td>\n",
       "      <td>4</td>\n",
       "    </tr>\n",
       "    <tr>\n",
       "      <th>4</th>\n",
       "      <td>2016-07-05</td>\n",
       "      <td>Beach</td>\n",
       "      <td>159</td>\n",
       "      <td>118</td>\n",
       "      <td>78</td>\n",
       "      <td>135.0</td>\n",
       "      <td>0.25</td>\n",
       "      <td>277</td>\n",
       "      <td>69.25</td>\n",
       "      <td>5</td>\n",
       "    </tr>\n",
       "  </tbody>\n",
       "</table>\n",
       "</div>"
      ],
      "text/plain": [
       "        Date Location  Lemon  Orange  Temperature  Leaflets  Price  Sales  \\\n",
       "0 2016-07-01     Park     97      67           70      90.0   0.25    164   \n",
       "1 2016-07-02     Park     98      67           72      90.0   0.25    165   \n",
       "2 2016-07-03     Park    110      77           71     104.0   0.25    187   \n",
       "3 2016-07-04    Beach    134      99           76      98.0   0.25    233   \n",
       "4 2016-07-05    Beach    159     118           78     135.0   0.25    277   \n",
       "\n",
       "   Revenue  Day  \n",
       "0    41.00    1  \n",
       "1    41.25    2  \n",
       "2    46.75    3  \n",
       "3    58.25    4  \n",
       "4    69.25    5  "
      ]
     },
     "execution_count": 33,
     "metadata": {},
     "output_type": "execute_result"
    }
   ],
   "source": [
    "DataFrame.head(df)"
   ]
  },
  {
   "cell_type": "code",
   "execution_count": 34,
   "metadata": {},
   "outputs": [
    {
     "data": {
      "image/png": "[encoded data removed]",
      "text/plain": [
       "<Figure size 864x432 with 1 Axes>"
      ]
     },
     "metadata": {
      "needs_background": "light"
     },
     "output_type": "display_data"
    }
   ],
   "source": [
    "fig, axes = plt.subplots(figsize = (12,6))\n",
    "renevenue_graph = sns.lineplot(x = 'Day', y = 'Revenue', data = df)\n",
    "renevenue_graph.set_title('Revenue for July 2016')\n",
    "renevenue_graph.set_ylabel('Revenue ($)');"
   ]
  },
  {
   "cell_type": "markdown",
   "metadata": {},
   "source": [
    "# 11) Crie um scatter-plot leaflets x sales. Existe alguma correlação entre os dados?"
   ]
  },
  {
   "cell_type": "code",
   "execution_count": 35,
   "metadata": {},
   "outputs": [
    {
     "data": {
      "image/png": "[encoded data removed]",
      "text/plain": [
       "<Figure size 864x432 with 1 Axes>"
      ]
     },
     "metadata": {
      "needs_background": "light"
     },
     "output_type": "display_data"
    }
   ],
   "source": [
    "fig, axes = plt.subplots(figsize = (12,6))\n",
    "salesLeaflets_graph = sns.scatterplot(x=\"Leaflets\", y=\"Sales\", data=df)\n",
    "salesLeaflets_graph.set_title('Sales x Leaflets');"
   ]
  },
  {
   "cell_type": "markdown",
   "metadata": {},
   "source": [
    "Do gráfico acima podemos ver uma correlação entre o número de vendas e quantidade de panfletos, ou seja, quanto maior o número de panfletos, maior é o número de vendas."
   ]
  },
  {
   "cell_type": "markdown",
   "metadata": {},
   "source": [
    "# 12) Crie um histograma que mostre o lucro (revenue) com 10 bins"
   ]
  },
  {
   "cell_type": "code",
   "execution_count": 36,
   "metadata": {},
   "outputs": [
    {
     "data": {
      "image/png": "[encoded data removed]",
      "text/plain": [
       "<Figure size 864x432 with 1 Axes>"
      ]
     },
     "metadata": {
      "needs_background": "light"
     },
     "output_type": "display_data"
    }
   ],
   "source": [
    "fig, axes = plt.subplots(figsize = (12,6))\n",
    "revenueHist_graph = plt.hist(df['Revenue'], bins = 10)\n",
    "plt.xlabel('Revenue ($)')\n",
    "plt.title('Revenue Histogram');"
   ]
  },
  {
   "cell_type": "markdown",
   "metadata": {},
   "source": [
    "# 13) crie um gráfico de linha que compute o lucro por tipo de fruta ao longo do tempo"
   ]
  },
  {
   "cell_type": "code",
   "execution_count": 37,
   "metadata": {},
   "outputs": [
    {
     "data": {
      "image/png": "[encoded data removed]",
      "text/plain": [
       "<Figure size 864x432 with 1 Axes>"
      ]
     },
     "metadata": {
      "needs_background": "light"
     },
     "output_type": "display_data"
    }
   ],
   "source": [
    "df['Revenue.Lemon'] = df['Lemon'] * df['Price']\n",
    "df['Revenue.Orange'] = df['Orange'] * df['Price']\n",
    "fig, axes = plt.subplots(figsize = (12,6))\n",
    "sns.lineplot(x = 'Day', y = 'Revenue.Lemon', color = \"green\", label = \"Lemon\", data = df)\n",
    "sns.lineplot(x = 'Day', y = 'Revenue.Orange', color = \"orange\", label = \"Orange\", data = df)\n",
    "plt.ylabel('Revenue')\n",
    "plt.title('Revenue for July 2016');"
   ]
  },
  {
   "cell_type": "markdown",
   "metadata": {},
   "source": [
    "# 14) usando regressão linear, prediga vendas a partir de Temperature, Leaflets e Price"
   ]
  },
  {
   "cell_type": "code",
   "execution_count": 38,
   "metadata": {},
   "outputs": [],
   "source": [
    "msk = np.random.rand(len(df)) < 0.7\n",
    "train = df[msk]\n",
    "test = df[~msk]"
   ]
  },
  {
   "cell_type": "code",
   "execution_count": 39,
   "metadata": {},
   "outputs": [
    {
     "name": "stdout",
     "output_type": "stream",
     "text": [
      "Coefficients:  [[6.96718051]]\n",
      "Intercept:  [-348.15862755]\n"
     ]
    }
   ],
   "source": [
    "from sklearn import linear_model\n",
    "\n",
    "# Temperature\n",
    "regr_temp = linear_model.LinearRegression()\n",
    "train_x = np.asanyarray(train[['Temperature']])\n",
    "train_y = np.asanyarray(train[['Sales']])\n",
    "regr_temp.fit (train_x, train_y)\n",
    "# The coefficients\n",
    "print ('Coefficients: ', regr_temp.coef_)\n",
    "print ('Intercept: ',regr_temp.intercept_)"
   ]
  },
  {
   "cell_type": "code",
   "execution_count": 40,
   "metadata": {},
   "outputs": [
    {
     "data": {
      "image/png": "[encoded data removed]",
      "text/plain": [
       "<Figure size 864x432 with 1 Axes>"
      ]
     },
     "metadata": {
      "needs_background": "light"
     },
     "output_type": "display_data"
    }
   ],
   "source": [
    "# Plot outputs\n",
    "fig, axes = plt.subplots(figsize = (12,6))\n",
    "lr_tempGraph = plt.scatter(train['Temperature'], train['Sales'],  color='blue')\n",
    "plt.plot(train_x, regr_temp.coef_[0][0]*train_x + regr_temp.intercept_[0], '-r')\n",
    "plt.xlabel(\"Temperature\")\n",
    "plt.ylabel(\"Sales\")\n",
    "plt.title('Linear Regression: Temperature x Sales');"
   ]
  },
  {
   "cell_type": "code",
   "execution_count": 41,
   "metadata": {},
   "outputs": [
    {
     "name": "stdout",
     "output_type": "stream",
     "text": [
      "Coefficients:  [[2.28357627]]\n",
      "Intercept:  [-53.8973575]\n"
     ]
    }
   ],
   "source": [
    "# Leaflets\n",
    "regr_leaflets = linear_model.LinearRegression()\n",
    "train_x = np.asanyarray(train[['Leaflets']])\n",
    "train_y = np.asanyarray(train[['Sales']])\n",
    "regr_leaflets.fit (train_x, train_y)\n",
    "# The coefficients\n",
    "print ('Coefficients: ', regr_leaflets.coef_)\n",
    "print ('Intercept: ',regr_leaflets.intercept_)"
   ]
  },
  {
   "cell_type": "code",
   "execution_count": 42,
   "metadata": {},
   "outputs": [
    {
     "data": {
      "image/png": "[encoded data removed]",
      "text/plain": [
       "<Figure size 864x432 with 1 Axes>"
      ]
     },
     "metadata": {
      "needs_background": "light"
     },
     "output_type": "display_data"
    }
   ],
   "source": [
    "# Plot outputs\n",
    "fig, axes = plt.subplots(figsize = (12,6))\n",
    "lr_leafGraph = plt.scatter(train['Leaflets'], train['Sales'],  color='blue')\n",
    "plt.plot(train_x, regr_leaflets.coef_[0][0]*train_x + regr_leaflets.intercept_[0], '-r')\n",
    "plt.xlabel(\"Leaflets\")\n",
    "plt.ylabel(\"Sales\")\n",
    "plt.title('Linear Regression: Leaflets x Sales');"
   ]
  },
  {
   "cell_type": "code",
   "execution_count": 43,
   "metadata": {},
   "outputs": [
    {
     "name": "stdout",
     "output_type": "stream",
     "text": [
      "Coefficients:  [[-155.88832487]]\n",
      "Intercept:  [259.11738579]\n"
     ]
    }
   ],
   "source": [
    "# Price\n",
    "regr_price = linear_model.LinearRegression()\n",
    "train_x = np.asanyarray(train[['Price']])\n",
    "train_y = np.asanyarray(train[['Sales']])\n",
    "regr_price.fit (train_x, train_y)\n",
    "# The coefficients\n",
    "print ('Coefficients: ', regr_price.coef_)\n",
    "print ('Intercept: ',regr_price.intercept_)"
   ]
  },
  {
   "cell_type": "code",
   "execution_count": 44,
   "metadata": {},
   "outputs": [
    {
     "data": {
      "image/png": "[encoded data removed]",
      "text/plain": [
       "<Figure size 864x432 with 1 Axes>"
      ]
     },
     "metadata": {
      "needs_background": "light"
     },
     "output_type": "display_data"
    }
   ],
   "source": [
    "# Plot outputs\n",
    "fig, axes = plt.subplots(figsize = (12,6))\n",
    "lr_priceGraph = plt.scatter(train['Price'], train['Sales'],  color='blue')\n",
    "plt.plot(train_x, regr_price.coef_[0][0]*train_x + regr_price.intercept_[0], '-r')\n",
    "plt.xlabel(\"Price\")\n",
    "plt.ylabel(\"Sales\")\n",
    "plt.title('Linear Regression: Price x Sales');"
   ]
  },
  {
   "cell_type": "markdown",
   "metadata": {},
   "source": [
    "# 15) Usando regressão linear, prediga vendas a partir das três variáveis juntas"
   ]
  },
  {
   "cell_type": "code",
   "execution_count": 45,
   "metadata": {},
   "outputs": [
    {
     "name": "stdout",
     "output_type": "stream",
     "text": [
      "Coefficients:  [[   3.0800304     1.95885809 -102.75702476]]\n",
      "Intercept:  [-223.03188393]\n"
     ]
    }
   ],
   "source": [
    "regr_mult = linear_model.LinearRegression()\n",
    "train_x = np.asanyarray(train[['Temperature', 'Leaflets','Price']])\n",
    "train_y = np.asanyarray(train[['Sales']])\n",
    "regr_mult.fit (train_x, train_y)\n",
    "# The coefficients\n",
    "print ('Coefficients: ', regr_mult.coef_)\n",
    "print ('Intercept: ',regr_mult.intercept_)"
   ]
  },
  {
   "cell_type": "code",
   "execution_count": 46,
   "metadata": {},
   "outputs": [
    {
     "name": "stdout",
     "output_type": "stream",
     "text": [
      "Residual sum of squares: 581.79\n",
      "Variance score: -0.04\n"
     ]
    }
   ],
   "source": [
    "# Predição\n",
    "y_hat= regr_mult.predict(test[['Temperature','Leaflets','Price']])\n",
    "x = np.asanyarray(test[['Temperature','Leaflets','Price']])\n",
    "y = np.asanyarray(test[['Sales']])\n",
    "print(\"Residual sum of squares: %.2f\"\n",
    "      % np.mean((y_hat - y) ** 2))\n",
    "\n",
    "# Explained variance score: 1 is perfect prediction\n",
    "print('Variance score: %.2f' % regr_mult.score(x, y))"
   ]
  },
  {
   "cell_type": "code",
   "execution_count": null,
   "metadata": {},
   "outputs": [],
   "source": []
  }
 ],
 "metadata": {
  "kernelspec": {
   "display_name": "Python 3",
   "language": "python",
   "name": "python3"
  },
  "language_info": {
   "codemirror_mode": {
    "name": "ipython",
    "version": 3
   },
   "file_extension": ".py",
   "mimetype": "text/x-python",
   "name": "python",
   "nbconvert_exporter": "python",
   "pygments_lexer": "ipython3",
   "version": "3.7.1"
  }
 },
 "nbformat": 4,
 "nbformat_minor": 2
}
